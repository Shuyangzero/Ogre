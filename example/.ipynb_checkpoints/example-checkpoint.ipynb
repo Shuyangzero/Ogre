{
 "cells": [
  {
   "cell_type": "code",
   "execution_count": 25,
   "metadata": {},
   "outputs": [],
   "source": [
    "import os\n",
    "import sys\n",
    "from ase.io import *\n",
    "from pymatgen.io.vasp.inputs import *"
   ]
  },
  {
   "cell_type": "markdown",
   "metadata": {},
   "source": [
    "import required package"
   ]
  },
  {
   "cell_type": "code",
   "execution_count": 20,
   "metadata": {},
   "outputs": [],
   "source": [
    "sys.path.append('../')\n",
    "import slab_generator"
   ]
  },
  {
   "cell_type": "markdown",
   "metadata": {},
   "source": [
    "import slab_generator package"
   ]
  },
  {
   "cell_type": "code",
   "execution_count": 23,
   "metadata": {},
   "outputs": [],
   "source": [
    "struct = './QQQCIG04_O.POSCAR.vasp'\n",
    "struct_ase = read(struct)\n",
    "miller_index = [1, 1, 1]\n",
    "layers = 3\n",
    "vacuum = 15\n",
    "working_dir = os.path.abspath('.')"
   ]
  },
  {
   "cell_type": "markdown",
   "metadata": {},
   "source": [
    "Input Parameters: \n",
    "struct : string\n",
    "    poscar file of target bulk\n",
    "miller_index : list, [M1, M2, M3]\n",
    "    miller index of the target surface\n",
    "layers : int\n",
    "    number of surface's layers\n",
    "vacuum : double\n",
    "    height of extra vacuum, Angstrom"
   ]
  },
  {
   "cell_type": "code",
   "execution_count": 22,
   "metadata": {},
   "outputs": [
    {
     "name": "stdout",
     "output_type": "stream",
     "text": [
      "There would be 1 different molecules in bulk\n"
     ]
    },
    {
     "name": "stderr",
     "output_type": "stream",
     "text": [
      "100%|██████████| 94/94 [00:00<00:00, 2037.06it/s]\n",
      "0it [00:00, ?it/s]"
     ]
    },
    {
     "name": "stdout",
     "output_type": "stream",
     "text": [
      "trying to find the connection between broken molecules and intact molecules\n",
      "trying to find the connection between broken molecules and intact molecules\n"
     ]
    },
    {
     "name": "stderr",
     "output_type": "stream",
     "text": [
      "\n",
      "100%|██████████| 94/94 [00:00<00:00, 599.14it/s]"
     ]
    },
    {
     "name": "stdout",
     "output_type": "stream",
     "text": [
      "trying to fix the broken molecules...\n"
     ]
    },
    {
     "name": "stderr",
     "output_type": "stream",
     "text": [
      "\n",
      "0it [00:00, ?it/s]\n"
     ]
    }
   ],
   "source": [
    "slab_list = slab_generator.repair_organic_slab_generator(struct_ase, miller_index, layers, vaccum, working_dir)"
   ]
  },
  {
   "cell_type": "markdown",
   "metadata": {},
   "source": [
    "get a list (slab_list[0] would be the slab) of slab"
   ]
  },
  {
   "cell_type": "code",
   "execution_count": 27,
   "metadata": {},
   "outputs": [
    {
     "name": "stdout",
     "output_type": "stream",
     "text": [
      "Your Poscar file has been successfully created under current folder\n"
     ]
    }
   ],
   "source": [
    "Poscar(slab_list[0]).write_file(\"POSCAR.vasp\")\n",
    "print(\"Your Poscar file has been successfully created under current folder\")"
   ]
  },
  {
   "cell_type": "code",
   "execution_count": null,
   "metadata": {},
   "outputs": [],
   "source": []
  }
 ],
 "metadata": {
  "kernelspec": {
   "display_name": "Python 3",
   "language": "python",
   "name": "python3"
  },
  "language_info": {
   "codemirror_mode": {
    "name": "ipython",
    "version": 3
   },
   "file_extension": ".py",
   "mimetype": "text/x-python",
   "name": "python",
   "nbconvert_exporter": "python",
   "pygments_lexer": "ipython3",
   "version": "3.7.3"
  }
 },
 "nbformat": 4,
 "nbformat_minor": 2
}
